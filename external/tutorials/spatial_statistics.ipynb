{
 "cells": [
  {
   "cell_type": "code",
   "execution_count": 43,
   "id": "2059dd66",
   "metadata": {},
   "outputs": [],
   "source": [
    "import os, sys\n",
    "sys.path.insert(1, os.getcwd()+'/..')\n",
    "if (os.path.basename(os.getcwd()) == 'tutorials'):\n",
    "    os.chdir('../..')\n",
    "\n",
    "from src.msa import generate\n",
    "from src.msa.visualization import plot\n",
    "from src.msa.feature_extraction import features\n",
    "\n",
    "from mspc_pca.pca import *\n",
    "from mspc_pca.omeda import *\n",
    "from mspc_pca.mspc import *\n",
    "from mspc_pca.ckf import *\n",
    "import mspc_pca.plot as pca_plot\n",
    "\n",
    "import numpy as np\n",
    "\n",
    "from sklearn.preprocessing import StandardScaler\n",
    "from sklearn.decomposition import PCA\n",
    "# %matplotlib inline\n",
    "import matplotlib.pyplot as plt\n",
    "plt.close('all')\n",
    "%matplotlib qt\n"
   ]
  },
  {
   "cell_type": "markdown",
   "id": "5cc5a2ac",
   "metadata": {},
   "source": [
    "#### Generate synthetic signal"
   ]
  },
  {
   "cell_type": "code",
   "execution_count": 44,
   "id": "f394cbd9",
   "metadata": {},
   "outputs": [],
   "source": [
    "T = 60 #s. Duration in secods\n",
    "sr = 100 # Sampling rate\n",
    "n_samples = int(T*sr)\n",
    "\n",
    "time = np.linspace(0,T, n_samples)\n",
    "\n",
    "# Generate Chirps\n",
    "chirp = np.zeros_like(time)\n",
    "# chirp  += generate.chirp(time, A=1.0, f0=0.0, f1=50., t0=1. ,t1=60 ,method='linear',phi=0)*generate.decay(time, 0.0, 1.)\n",
    "# chirp  += generate.chirp(time, A=1.0, f0=50., f1=0.0, t0=1. ,t1=60 ,method='linear',phi=0)*generate.decay(time, 0.0, 1.)\n",
    "# chirp  += generate.chirp(time, A=4.0, f0=40., f1=10., t0=10 ,t1=25 ,method='linear',phi=0)*generate.decay(time, 0.5, 10)\n",
    "# chirp  += generate.chirp(time, A=1.5, f0=10., f1=15., t0=25 ,t1=30 ,method='linear',phi=0)*generate.decay(time, 0.1, 25)\n",
    "\n",
    "chirp  += generate.chirp(time, A=5.0, f0=45., f1=15., t0=5. ,t1=6. ,method='linear',phi=0)*generate.decay(time, 0.5, 5.) # F falls qucikly in time\n",
    "chirp  += generate.chirp(time, A=6.0, f0=0., f1=30, t0=33 ,t1=33.1 ,method='linear',phi=0)*generate.decay(time, 0.6, 33) # F grows quickly in time\n",
    "\n",
    "chirp  += generate.chirp(time, A=2.0, f0=25., f1=25.1, t0=15 ,t1=35 ,method='linear',phi=0)*generate.decay(time, 0.1, 15) # F grows slowly in time\n",
    "chirp  += generate.chirp(time, A=2.0, f0=45., f1=44.9,t0=40 ,t1=60 ,method='linear',phi=0)*generate.decay(time, 0.2, 40) # F falls slowly in time\n",
    "\n",
    "chirp  += generate.chirp(time, A=2.0, f0=15., f1=20,t0=45 ,t1=50 ,method='linear',phi=0)*generate.decay(time, 0.1, 45) \n",
    "\n",
    "# Generate white noise\n",
    "A = 2\n",
    "np.random.rand(123)\n",
    "white = np.random.rand(int(T*sr))*A*2 - A\n",
    "\n",
    "# Synthetic signal\n",
    "signal = chirp + white "
   ]
  },
  {
   "cell_type": "markdown",
   "id": "d5b5c170",
   "metadata": {},
   "source": [
    "#### Spectrograms: Parameters\n",
    "\n",
    "**samplig rate (sr)**: Sampling rate is often fixed by our sensors. Via Nyquist, it determines the maximum frequency we can observe.\n",
    "\n",
    "**window size**: Longer windows provide better frequency resolution and worse temporal resolution.\n",
    "\n",
    "**shift**: Shorter shifts provide better temporal resolution.\n",
    "\n",
    "**nº of bins**: Number of different frequencies to consider for the FFT. Its value should be equal to the number of samples per window. If lower, the frequency resolution will deminish.\n"
   ]
  },
  {
   "cell_type": "code",
   "execution_count": 45,
   "id": "9b551296",
   "metadata": {},
   "outputs": [],
   "source": [
    "# Parameters\n",
    "\n",
    "sr = sr #Hz. \n",
    "window_sizes = [1, 3, 6] #s. \n",
    "shift_fractions = [1.0, 0.5, 0.1]#s. \n",
    "n_bins = None # \n",
    "\n",
    "\n",
    "scale = False\n",
    "if scale:\n",
    "    vmin = 0\n",
    "    vmax = 100000.0\n",
    "    norm = vmax-vmin\n",
    "else: vmin, vmax, norm = None, None, 1\n",
    "\n",
    "fig, ax = plot.grid(len(window_sizes), len(shift_fractions), text0=fr\"Window size\", text1=rf\"Window shift\", figsize=(9,9))\n",
    "\n",
    "N = len(window_sizes)\n",
    "M = len(shift_fractions)\n",
    "\n",
    "times = [[[] for _ in range(M)] for _ in range(N)]\n",
    "freqs = [[[] for _ in range(M)] for _ in range(N)]\n",
    "Sxxs  = [[[] for _ in range(M)] for _ in range(N)]\n",
    "\n",
    "\n",
    "for n, window in enumerate(window_sizes):\n",
    "    for m, shift_fraction in enumerate(shift_fractions):\n",
    "            win_samples = int(sr*window)\n",
    "            hop = int(win_samples*shift_fraction)\n",
    "            time, freq, Sxx = features.spectrogram(signal, sr, win_samples, hop, \"blackman\",\"zeros\", \"linear\")\n",
    "\n",
    "            # Eliminate padded times\n",
    "            mask = (time >=0) & (time <=T)\n",
    "            time = time[mask]\n",
    "            Sxx = Sxx[:, mask]\n",
    "\n",
    "            times[n][m] = time\n",
    "            freqs[n][m] = freq\n",
    "            Sxxs[n][m] = Sxx\n",
    "\n",
    "            _, _ , mesh = plot.spectrogram(time, freq, Sxx/norm, (0,T), (0,sr/2), \"nipy_spectral\", False, vmin, vmax, ax = ax[m,n], logscale=False)\n",
    "\n",
    "\n",
    "bbox = ax[-1, -1].get_position()\n",
    "tbox = ax[ 0, -1].get_position()\n",
    "cax = fig.add_axes([0.92, bbox.y0, 0.02, tbox.y1-bbox.y0])  # [left, bottom, width, height] en coords de figura\n",
    "cbar = fig.colorbar(mesh, cax=cax)\n",
    "cbar.ax.set_yticks([])      \n",
    "cbar.ax.set_yticklabels([])\n",
    "cbar.set_label(\"Relative intensity\", rotation=270, labelpad=18, fontsize=16)\n",
    "\n",
    "ax[-1,1].set_xlabel(\"Time (s)\", fontsize=16);\n",
    "ax[1,0].set_ylabel(\"Frequency (Hz)\", fontsize=16);"
   ]
  },
  {
   "cell_type": "markdown",
   "id": "217acb2f",
   "metadata": {},
   "source": [
    "#### PCA Visualization"
   ]
  },
  {
   "cell_type": "code",
   "execution_count": 46,
   "id": "14fe1b22",
   "metadata": {},
   "outputs": [],
   "source": [
    "autoscale = False\n",
    "\n",
    "\n",
    "fig, ax = plot.grid(len(window_sizes), len(shift_fractions), text0=fr\"Window size\", text1=rf\"Window shift\", figsize=(9,9), )\n",
    "\n",
    "for n, window in enumerate(window_sizes):\n",
    "    for m, shift_fraction in enumerate(shift_fractions):\n",
    "        Sxx = Sxxs[n][m]\n",
    "        data = Sxx.T\n",
    "        scaler = StandardScaler(with_std=autoscale)\n",
    "        data_norm = scaler.fit_transform(data)\n",
    "        pca_plot.var_pca(data, 6, autoscale, ax = ax[m,n])\n",
    "        ax[m, n].set_title('')\n",
    "        ax[m, n].set_xlabel('')\n",
    "        ax[m, n].set_ylabel('')\n",
    "\n",
    "        # Remove legend (if present)\n",
    "        legend = ax[m, n].get_legend()\n",
    "        if legend is not None:\n",
    "            legend.remove()\n"
   ]
  },
  {
   "cell_type": "code",
   "execution_count": 47,
   "id": "03e30459",
   "metadata": {},
   "outputs": [],
   "source": [
    "pca = PCA(n_components=2)\n",
    "\n",
    "fig, ax = plot.grid(len(window_sizes), len(shift_fractions), text0=fr\"Window size\", text1=rf\"Window shift\", figsize=(9,9), )\n",
    "\n",
    "for n, window in enumerate(window_sizes):\n",
    "    for m, shift_fraction in enumerate(shift_fractions):\n",
    "        Sxx = Sxxs[n][m]\n",
    "        data = Sxx.T\n",
    "        scaler = StandardScaler(with_std=autoscale)\n",
    "        data_norm = scaler.fit_transform(data)\n",
    "        freqs_label = [f\"{round(x, 2)}Hz\" for x in freqs[n][m]]\n",
    "        times_label = [f\"{round(x, 2)}s\" for x in times[n][m]]\n",
    "        _,_,scatter = pca_plot.biplot(data_norm, pca, 1, 2, label_dist=0.3, score_labels=times_label, loading_labels=freqs_label, score_classes=times[n][m], size=10, ax=ax[m,n])\n",
    "        ax[m, n].set_title('')\n",
    "        # ax[m, n].set_xlabel('')\n",
    "        # ax[m, n].set_ylabel('')\n",
    "\n",
    "        # Remove legend (if present)\n",
    "        legend = ax[m, n].get_legend()\n",
    "        if legend is not None:\n",
    "            legend.remove()\n",
    "\n",
    "\n",
    "\n",
    "bbox = ax[-1, -1].get_position()\n",
    "tbox = ax[ 0, -1].get_position()\n",
    "cax = fig.add_axes([0.92, bbox.y0, 0.02, tbox.y1-bbox.y0])  # [left, bottom, width, height] en coords de figura\n",
    "cbar = fig.colorbar(scatter, cax=cax)\n",
    "# cbar.ax.set_yticks([])      \n",
    "# cbar.ax.set_yticklabels([])\n",
    "cbar.set_label(\"Time (s)\", rotation=270, labelpad=18, fontsize=16)"
   ]
  },
  {
   "cell_type": "code",
   "execution_count": 48,
   "id": "b0580243",
   "metadata": {},
   "outputs": [
    {
     "data": {
      "text/plain": [
       "array([ 0. ,  0.6,  1.2,  1.8,  2.4,  3. ,  3.6,  4.2,  4.8,  5.4,  6. ,\n",
       "        6.6,  7.2,  7.8,  8.4,  9. ,  9.6, 10.2, 10.8, 11.4, 12. , 12.6,\n",
       "       13.2, 13.8, 14.4, 15. , 15.6, 16.2, 16.8, 17.4, 18. , 18.6, 19.2,\n",
       "       19.8, 20.4, 21. , 21.6, 22.2, 22.8, 23.4, 24. , 24.6, 25.2, 25.8,\n",
       "       26.4, 27. , 27.6, 28.2, 28.8, 29.4, 30. , 30.6, 31.2, 31.8, 32.4,\n",
       "       33. , 33.6, 34.2, 34.8, 35.4, 36. , 36.6, 37.2, 37.8, 38.4, 39. ,\n",
       "       39.6, 40.2, 40.8, 41.4, 42. , 42.6, 43.2, 43.8, 44.4, 45. , 45.6,\n",
       "       46.2, 46.8, 47.4, 48. , 48.6, 49.2, 49.8, 50.4, 51. , 51.6, 52.2,\n",
       "       52.8, 53.4, 54. , 54.6, 55.2, 55.8, 56.4, 57. , 57.6, 58.2, 58.8,\n",
       "       59.4, 60. ])"
      ]
     },
     "execution_count": 48,
     "metadata": {},
     "output_type": "execute_result"
    }
   ],
   "source": [
    "times[n][m]"
   ]
  }
 ],
 "metadata": {
  "kernelspec": {
   "display_name": ".venv",
   "language": "python",
   "name": "python3"
  },
  "language_info": {
   "codemirror_mode": {
    "name": "ipython",
    "version": 3
   },
   "file_extension": ".py",
   "mimetype": "text/x-python",
   "name": "python",
   "nbconvert_exporter": "python",
   "pygments_lexer": "ipython3",
   "version": "3.12.3"
  }
 },
 "nbformat": 4,
 "nbformat_minor": 5
}
