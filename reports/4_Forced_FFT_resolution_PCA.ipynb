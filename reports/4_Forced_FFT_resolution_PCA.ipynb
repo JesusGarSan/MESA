{
 "cells": [
  {
   "cell_type": "markdown",
   "metadata": {},
   "source": [
    "# Forced frequency resolution with PCA\n",
    "Over-binning can be spotted with PCA. Loop-like patters will appear "
   ]
  },
  {
   "cell_type": "code",
   "execution_count": null,
   "metadata": {},
   "outputs": [
    {
     "name": "stdout",
     "output_type": "stream",
     "text": [
      "c:\\Users\\Jesús\\Documents\\GitHub\\STFT-MEDA\n"
     ]
    },
    {
     "ename": "ModuleNotFoundError",
     "evalue": "No module named 'plot'",
     "output_type": "error",
     "traceback": [
      "\u001b[1;31m---------------------------------------------------------------------------\u001b[0m",
      "\u001b[1;31mModuleNotFoundError\u001b[0m                       Traceback (most recent call last)",
      "Cell \u001b[1;32mIn[2], line 6\u001b[0m\n\u001b[0;32m      4\u001b[0m     os\u001b[38;5;241m.\u001b[39mchdir(\u001b[38;5;124m'\u001b[39m\u001b[38;5;124m..\u001b[39m\u001b[38;5;124m'\u001b[39m)\n\u001b[0;32m      5\u001b[0m \u001b[38;5;28mprint\u001b[39m(os\u001b[38;5;241m.\u001b[39mgetcwd())\n\u001b[1;32m----> 6\u001b[0m \u001b[38;5;28;01mfrom\u001b[39;00m \u001b[38;5;21;01minternal\u001b[39;00m \u001b[38;5;28;01mimport\u001b[39;00m \u001b[38;5;241m*\u001b[39m\n",
      "File \u001b[1;32mc:\\Users\\Jesús\\Documents\\GitHub\\STFT-MEDA\\reports/..\\internal\\__init__.py:5\u001b[0m\n\u001b[0;32m      3\u001b[0m \u001b[38;5;28;01mimport\u001b[39;00m \u001b[38;5;21;01minternal\u001b[39;00m\u001b[38;5;21;01m.\u001b[39;00m\u001b[38;5;21;01mplot\u001b[39;00m \u001b[38;5;28;01mas\u001b[39;00m \u001b[38;5;21;01mplot\u001b[39;00m\n\u001b[0;32m      4\u001b[0m \u001b[38;5;28;01mimport\u001b[39;00m \u001b[38;5;21;01minternal\u001b[39;00m\u001b[38;5;21;01m.\u001b[39;00m\u001b[38;5;21;01mtests\u001b[39;00m \u001b[38;5;28;01mas\u001b[39;00m \u001b[38;5;21;01mtest\u001b[39;00m\n\u001b[1;32m----> 5\u001b[0m \u001b[38;5;28;01mfrom\u001b[39;00m \u001b[38;5;21;01minternal\u001b[39;00m\u001b[38;5;21;01m.\u001b[39;00m\u001b[38;5;21;01mProcessor\u001b[39;00m \u001b[38;5;28;01mimport\u001b[39;00m Processor\n\u001b[0;32m      6\u001b[0m \u001b[38;5;28;01mfrom\u001b[39;00m \u001b[38;5;21;01mscipy\u001b[39;00m\u001b[38;5;21;01m.\u001b[39;00m\u001b[38;5;21;01msignal\u001b[39;00m \u001b[38;5;28;01mimport\u001b[39;00m ShortTimeFFT, windows\n",
      "File \u001b[1;32mc:\\Users\\Jesús\\Documents\\GitHub\\STFT-MEDA\\reports/..\\internal\\Processor.py:6\u001b[0m\n\u001b[0;32m      4\u001b[0m \u001b[38;5;28;01mimport\u001b[39;00m \u001b[38;5;21;01mtests\u001b[39;00m \u001b[38;5;28;01mas\u001b[39;00m \u001b[38;5;21;01mtest\u001b[39;00m\n\u001b[0;32m      5\u001b[0m \u001b[38;5;28;01mimport\u001b[39;00m \u001b[38;5;21;01mfeatures\u001b[39;00m\n\u001b[1;32m----> 6\u001b[0m \u001b[38;5;28;01mimport\u001b[39;00m \u001b[38;5;21;01mplot\u001b[39;00m\n\u001b[0;32m      7\u001b[0m \u001b[38;5;28;01mfrom\u001b[39;00m \u001b[38;5;21;01mgenerator\u001b[39;00m \u001b[38;5;28;01mimport\u001b[39;00m Generator\n\u001b[0;32m      9\u001b[0m \u001b[38;5;28;01mclass\u001b[39;00m \u001b[38;5;21;01mProcessor\u001b[39;00m(ShortTimeFFT):\n",
      "\u001b[1;31mModuleNotFoundError\u001b[0m: No module named 'plot'"
     ]
    }
   ],
   "source": [
    "import os, sys\n",
    "sys.path.insert(1, os.getcwd()+'/..')\n",
    "if (os.getcwd()[-7:] == 'reports'):\n",
    "    os.chdir('..')\n",
    "from internal import *"
   ]
  },
  {
   "cell_type": "markdown",
   "metadata": {},
   "source": [
    "### Create sinthetic signals\n",
    "We create seleral sinthetic signals for testing.\n",
    "\n",
    "We simulate having 5 sensor measuring for 30 seconds.\n",
    "We generate several frequencies that are detected with different amplitudes in each fo the sensors (each sensor is more sensible than the last).\n"
   ]
  },
  {
   "cell_type": "code",
   "execution_count": null,
   "metadata": {},
   "outputs": [
    {
     "ename": "NameError",
     "evalue": "name 'np' is not defined",
     "output_type": "error",
     "traceback": [
      "\u001b[1;31m---------------------------------------------------------------------------\u001b[0m",
      "\u001b[1;31mNameError\u001b[0m                                 Traceback (most recent call last)",
      "Cell \u001b[1;32mIn[1], line 2\u001b[0m\n\u001b[0;32m      1\u001b[0m \u001b[38;5;66;03m# Fix the random seed for consistency between simulations\u001b[39;00m\n\u001b[1;32m----> 2\u001b[0m \u001b[43mnp\u001b[49m\u001b[38;5;241m.\u001b[39mrandom\u001b[38;5;241m.\u001b[39mseed(\u001b[38;5;241m123\u001b[39m)\n",
      "\u001b[1;31mNameError\u001b[0m: name 'np' is not defined"
     ]
    }
   ],
   "source": [
    "# Fix the random seed for consistency between simulations\n",
    "np.random.seed(123)"
   ]
  },
  {
   "cell_type": "code",
   "execution_count": null,
   "metadata": {},
   "outputs": [
    {
     "name": "stdout",
     "output_type": "stream",
     "text": [
      "Forced FFT resolution: 2.0Hz\n",
      "True FFT resolution: 0.2Hz\n",
      "Warning!\n",
      "  The number of FFT bins (50) is smaller than the number of time samples (500). The energy might not be conserved\n"
     ]
    },
    {
     "ename": "ValueError",
     "evalue": "Parameter hop=5.0 is not an integer >= 1!",
     "output_type": "error",
     "traceback": [
      "\u001b[1;31m---------------------------------------------------------------------------\u001b[0m",
      "\u001b[1;31mValueError\u001b[0m                                Traceback (most recent call last)",
      "Cell \u001b[1;32mIn[5], line 65\u001b[0m\n\u001b[0;32m     62\u001b[0m sensors\u001b[38;5;241m.\u001b[39mappend(Processor(y, sr))\n\u001b[0;32m     64\u001b[0m \u001b[38;5;250m\u001b[39m\u001b[38;5;124;03m\"\"\" Apply windowing and calculate FFT \"\"\"\u001b[39;00m\n\u001b[1;32m---> 65\u001b[0m \u001b[43msensors\u001b[49m\u001b[43m[\u001b[49m\u001b[43mi\u001b[49m\u001b[43m]\u001b[49m\u001b[38;5;241;43m.\u001b[39;49m\u001b[43mset_stft\u001b[49m\u001b[43m(\u001b[49m\u001b[43mwindow\u001b[49m\u001b[43m,\u001b[49m\u001b[43m \u001b[49m\u001b[43mshift\u001b[49m\u001b[43m)\u001b[49m;\n\u001b[0;32m     66\u001b[0m sensors[i]\u001b[38;5;241m.\u001b[39mstft()\n\u001b[0;32m     67\u001b[0m \u001b[38;5;66;03m# sensors[i].check_fft()\u001b[39;00m\n",
      "File \u001b[1;32mc:\\Users\\Jesús\\Documents\\GitHub\\STFT-MEDA\\reports/..\\internal\\Processor.py:123\u001b[0m, in \u001b[0;36mProcessor.set_stft\u001b[1;34m(self, window_duration, shift, windowing)\u001b[0m\n\u001b[0;32m    120\u001b[0m     \u001b[38;5;28;01massert\u001b[39;00m \u001b[38;5;28mlen\u001b[39m(windowing) \u001b[38;5;241m==\u001b[39m \u001b[38;5;28mself\u001b[39m\u001b[38;5;241m.\u001b[39mwindow_samples, \u001b[38;5;124m\"\u001b[39m\u001b[38;5;124m\"\u001b[39m\n\u001b[0;32m    121\u001b[0m     \u001b[38;5;28mself\u001b[39m\u001b[38;5;241m.\u001b[39mwindowing \u001b[38;5;241m=\u001b[39m windowing\n\u001b[1;32m--> 123\u001b[0m \u001b[43mShortTimeFFT\u001b[49m\u001b[38;5;241;43m.\u001b[39;49m\u001b[38;5;21;43m__init__\u001b[39;49m\u001b[43m(\u001b[49m\u001b[38;5;28;43mself\u001b[39;49m\u001b[43m,\u001b[49m\u001b[43m \u001b[49m\u001b[38;5;28;43mself\u001b[39;49m\u001b[38;5;241;43m.\u001b[39;49m\u001b[43mwindowing\u001b[49m\u001b[43m,\u001b[49m\u001b[43m \u001b[49m\u001b[43mshift\u001b[49m\u001b[43m,\u001b[49m\u001b[43m \u001b[49m\u001b[38;5;28;43mself\u001b[39;49m\u001b[38;5;241;43m.\u001b[39;49m\u001b[43msr\u001b[49m\u001b[43m)\u001b[49m\n",
      "File \u001b[1;32mc:\\Users\\Jesús\\AppData\\Local\\Programs\\Python\\Python311\\Lib\\site-packages\\scipy\\signal\\_short_time_fft.py:259\u001b[0m, in \u001b[0;36mShortTimeFFT.__init__\u001b[1;34m(self, win, hop, fs, fft_mode, mfft, dual_win, scale_to, phase_shift)\u001b[0m\n\u001b[0;32m    257\u001b[0m     \u001b[38;5;28;01mraise\u001b[39;00m \u001b[38;5;167;01mValueError\u001b[39;00m(\u001b[38;5;124m\"\u001b[39m\u001b[38;5;124mParameter win must have finite entries!\u001b[39m\u001b[38;5;124m\"\u001b[39m)\n\u001b[0;32m    258\u001b[0m \u001b[38;5;28;01mif\u001b[39;00m \u001b[38;5;129;01mnot\u001b[39;00m (hop \u001b[38;5;241m>\u001b[39m\u001b[38;5;241m=\u001b[39m \u001b[38;5;241m1\u001b[39m \u001b[38;5;129;01mand\u001b[39;00m \u001b[38;5;28misinstance\u001b[39m(hop, \u001b[38;5;28mint\u001b[39m)):\n\u001b[1;32m--> 259\u001b[0m     \u001b[38;5;28;01mraise\u001b[39;00m \u001b[38;5;167;01mValueError\u001b[39;00m(\u001b[38;5;124mf\u001b[39m\u001b[38;5;124m\"\u001b[39m\u001b[38;5;124mParameter \u001b[39m\u001b[38;5;132;01m{\u001b[39;00mhop\u001b[38;5;132;01m=}\u001b[39;00m\u001b[38;5;124m is not an integer >= 1!\u001b[39m\u001b[38;5;124m\"\u001b[39m)\n\u001b[0;32m    260\u001b[0m \u001b[38;5;28mself\u001b[39m\u001b[38;5;241m.\u001b[39m_win, \u001b[38;5;28mself\u001b[39m\u001b[38;5;241m.\u001b[39m_hop, \u001b[38;5;28mself\u001b[39m\u001b[38;5;241m.\u001b[39mfs \u001b[38;5;241m=\u001b[39m win, hop, fs\n\u001b[0;32m    262\u001b[0m \u001b[38;5;28mself\u001b[39m\u001b[38;5;241m.\u001b[39mmfft \u001b[38;5;241m=\u001b[39m \u001b[38;5;28mlen\u001b[39m(win) \u001b[38;5;28;01mif\u001b[39;00m mfft \u001b[38;5;129;01mis\u001b[39;00m \u001b[38;5;28;01mNone\u001b[39;00m \u001b[38;5;28;01melse\u001b[39;00m mfft\n",
      "\u001b[1;31mValueError\u001b[0m: Parameter hop=5.0 is not an integer >= 1!"
     ]
    },
    {
     "data": {
      "image/png": "[encoded data removed]",
      "text/plain": [
       "<Figure size 640x480 with 5 Axes>"
      ]
     },
     "metadata": {},
     "output_type": "display_data"
    }
   ],
   "source": [
    "\n",
    "\"\"\" Set the parameters \"\"\"\n",
    "sr = 100;       # Hz. Sampling rate\n",
    "t = 60;         # s. Duration of the signal\n",
    "N = 100;      # Number of different frequencies composing the signal\n",
    "\n",
    "window = 5.0     # s. Length of the windows in seconds\n",
    "shift  = window  # s. Length of the window shift in seconds\n",
    "n_bins = int(window*sr/1);  # Number of bins to use for the DFT calculation\n",
    "n_bins = n_bins//10\n",
    "\n",
    "\n",
    "f = [12.0, 13.5, 22.0, 22.15, 32.0, 32.075 ] # Hz. Main frequencies of the simulated signals\n",
    "sigma_f = 0.5 # standard deviation around the frequencies chosen for the signal generation\n",
    "sigma_A = 0.5 # standard deviation around the amplitudes chosen for the signal generation\n",
    "\n",
    "n_sensors = 5; # Number of sensors in the simulation\n",
    "sensors = []\n",
    "\n",
    "print(f\"Forced FFT resolution: {sr/n_bins}Hz\")\n",
    "print(f\"True FFT resolution: {sr/(window*sr)}Hz\")\n",
    "test.bins_check(sr, window, n_bins)\n",
    "\n",
    "plot = True\n",
    "if plot: \n",
    "    import matplotlib.pyplot as plt\n",
    "    fig, ax = plt.subplots(n_sensors, 1, sharex=True)\n",
    "    ymax = 0; ymin = 0;\n",
    "\n",
    "for i in range(n_sensors):\n",
    "\n",
    "    \"\"\" Generate the signal \"\"\"\n",
    "    F   = np.zeros(N*len(f))\n",
    "    A   = np.zeros(N*len(f))\n",
    "    phi = np.zeros(N*len(f))\n",
    "    k = -1 \n",
    "    for f0 in f:\n",
    "        k += 1\n",
    "        F[N*k:N*(k+1)] = generate_frequencies(N, sr=sr, f0=f0,sigma=sigma_f);\n",
    "        center = 10 + i**2 # Cada sensor es más sensible que el anterior\n",
    "        A[N*k:N*(k+1)] = generate_amplitudes(N, center=center, sigma= sigma_A)\n",
    "        phi[N*k:N*(k+1)] = generate_phase(N);\n",
    "    \n",
    "    sort_ids = F.argsort()\n",
    "    F   = F[sort_ids]\n",
    "    A   = A[sort_ids]#*np.tile(np.linspace(0.8,2,N),(1,len(f))); # Skew for different frequencies\n",
    "    phi = phi[sort_ids]\n",
    "    x, y = generate_signal(F, A, t=t, sr=sr, phi=phi);\n",
    "    \n",
    "    \"\"\" Signal convolution \"\"\"\n",
    "    x_aux = x - t/2 # Peak on the middle of the signal\n",
    "    convolution = 1* np.exp(-(x_aux/10)**2)\n",
    "    y *= convolution\n",
    "    \n",
    "    # Plot the signal of each sensor\n",
    "    if plot:\n",
    "        ymin = min([ymin, min(y)])\n",
    "        ymax = max([ymax, max(y)])\n",
    "        ax[i].plot(x, y)\n",
    "\n",
    "\n",
    "    \"\"\" Create signal object \"\"\"\n",
    "    sensors.append(Processor(y, sr))\n",
    "\n",
    "    \"\"\" Apply windowing and calculate FFT \"\"\"\n",
    "    sensors[i].set_stft(window, shift);\n",
    "    sensors[i].stft()\n",
    "    # sensors[i].check_fft()\n",
    "\n",
    "    \"\"\" Create data matrix \"\"\"\n",
    "    ffts = sensors[i].fft_windows[:, 0:n_bins//2]\n",
    "    fft_freq = sensors[i].freqs_windows[0:n_bins//2]\n",
    "    fft_freq_str = [f\"{round(freq, 2)} Hz\" for freq in fft_freq]\n",
    "\n",
    "    \"\"\" Save the data matrix \"\"\"\n",
    "    data_emp = np.abs(ffts)\n",
    "    filepath = f\"./data/simulation_data/empirical_data/sensor_{i+1}.mat\"\n",
    "    save(np.abs(ffts), column_names=fft_freq_str, filepath=filepath)\n",
    "    print(f\"Sensor {i+1} data saved at {filepath}\")\n",
    "\n",
    "    \"\"\" Create data matrix of the true data\"\"\"\n",
    "    wave = np.sin(np.outer(x, np.pi*2*F)+phi)\n",
    "    data = np.abs(wave * convolution[:, np.newaxis]) # We take the absolute value of the final signal\n",
    "    data *= A\n",
    "\n",
    "    \"\"\" Average for the windows \"\"\"\n",
    "    data = data.reshape(sensors[i].N_windows, sensors[i].window_samples, N*len(f))\n",
    "    data = np.mean(data, axis = 1)\n",
    "\n",
    "    \"\"\" Average for the frequency resolution\"\"\"\n",
    "    fft_res = sensors[i].fft_resolution\n",
    "    n_ffts = sensors[i].n_bins//2\n",
    "    data_avg = np.zeros((sensors[i].N_windows,n_ffts))\n",
    "    \n",
    "    for j in range(n_ffts):\n",
    "        f_ids = np.where((F>fft_res*j) & (F<=fft_res*(j+1)))[0]\n",
    "        if f_ids.size > 0:\n",
    "            aux = data[:, f_ids]\n",
    "            data_avg[:,j] = aux.mean(axis=1)\n",
    "\n",
    "    data = np.abs(data_avg)\n",
    "\n",
    "    \"\"\" Save the true data matrix \"\"\"\n",
    "    fft_freq += fft_res # Correction for the true data labels\n",
    "    fft_freq_str = [f\"{round(freq, 2)} Hz\" for freq in fft_freq]\n",
    "    filepath = f\"./data/simulation_data/theoretical_data/sensor_{i+1}.mat\"\n",
    "    save(data, column_names=fft_freq_str, filepath=filepath)\n",
    "    print(f\"Sensor {i+1} true data saved at {filepath}\")\n"
   ]
  },
  {
   "cell_type": "code",
   "execution_count": null,
   "metadata": {},
   "outputs": [],
   "source": []
  },
  {
   "cell_type": "markdown",
   "metadata": {},
   "source": [
    "### Apply PCA to the data using the MEDA-Toolbox"
   ]
  },
  {
   "cell_type": "code",
   "execution_count": null,
   "metadata": {},
   "outputs": [
    {
     "data": {
      "text/plain": [
       "CompletedProcess(args=['matlab', '-nodesktop', '-nosplash', '-r', \"cd('MEDA'); main;\"], returncode=0)"
      ]
     },
     "execution_count": 5,
     "metadata": {},
     "output_type": "execute_result"
    }
   ],
   "source": [
    "# # Template para ejecutar matlab desde aquí\n",
    "import subprocess\n",
    "\n",
    "matlab_script = 'main'\n",
    "subprocess.run([\"matlab\", \"-nodesktop\", \"-nosplash\", \"-r\", f\"cd('MEDA'); {matlab_script};\"])"
   ]
  }
 ],
 "metadata": {
  "kernelspec": {
   "display_name": "Python 3",
   "language": "python",
   "name": "python3"
  },
  "language_info": {
   "codemirror_mode": {
    "name": "ipython",
    "version": 3
   },
   "file_extension": ".py",
   "mimetype": "text/x-python",
   "name": "python",
   "nbconvert_exporter": "python",
   "pygments_lexer": "ipython3",
   "version": "3.11.6"
  }
 },
 "nbformat": 4,
 "nbformat_minor": 2
}
